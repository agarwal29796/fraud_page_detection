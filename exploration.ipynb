{
 "cells": [
  {
   "cell_type": "code",
   "execution_count": 74,
   "metadata": {},
   "outputs": [],
   "source": [
    "import pandas as pd\n",
    "import numpy as np\n",
    "import matplotlib.pyplot as plt\n",
    "import seaborn as sns"
   ]
  },
  {
   "cell_type": "code",
   "execution_count": 75,
   "metadata": {},
   "outputs": [
    {
     "name": "stdout",
     "output_type": "stream",
     "text": [
      "(1781, 21)\n"
     ]
    },
    {
     "data": {
      "text/html": [
       "<div>\n",
       "<style scoped>\n",
       "    .dataframe tbody tr th:only-of-type {\n",
       "        vertical-align: middle;\n",
       "    }\n",
       "\n",
       "    .dataframe tbody tr th {\n",
       "        vertical-align: top;\n",
       "    }\n",
       "\n",
       "    .dataframe thead th {\n",
       "        text-align: right;\n",
       "    }\n",
       "</style>\n",
       "<table border=\"1\" class=\"dataframe\">\n",
       "  <thead>\n",
       "    <tr style=\"text-align: right;\">\n",
       "      <th></th>\n",
       "      <th>URL</th>\n",
       "      <th>URL_LENGTH</th>\n",
       "      <th>NUMBER_SPECIAL_CHARACTERS</th>\n",
       "      <th>CHARSET</th>\n",
       "      <th>SERVER</th>\n",
       "      <th>CONTENT_LENGTH</th>\n",
       "      <th>WHOIS_COUNTRY</th>\n",
       "      <th>WHOIS_STATEPRO</th>\n",
       "      <th>WHOIS_REGDATE</th>\n",
       "      <th>WHOIS_UPDATED_DATE</th>\n",
       "      <th>...</th>\n",
       "      <th>DIST_REMOTE_TCP_PORT</th>\n",
       "      <th>REMOTE_IPS</th>\n",
       "      <th>APP_BYTES</th>\n",
       "      <th>SOURCE_APP_PACKETS</th>\n",
       "      <th>REMOTE_APP_PACKETS</th>\n",
       "      <th>SOURCE_APP_BYTES</th>\n",
       "      <th>REMOTE_APP_BYTES</th>\n",
       "      <th>APP_PACKETS</th>\n",
       "      <th>DNS_QUERY_TIMES</th>\n",
       "      <th>Type</th>\n",
       "    </tr>\n",
       "  </thead>\n",
       "  <tbody>\n",
       "    <tr>\n",
       "      <th>0</th>\n",
       "      <td>M0_109</td>\n",
       "      <td>16</td>\n",
       "      <td>7</td>\n",
       "      <td>iso-8859-1</td>\n",
       "      <td>nginx</td>\n",
       "      <td>263.0</td>\n",
       "      <td>None</td>\n",
       "      <td>None</td>\n",
       "      <td>10/10/2015 18:21</td>\n",
       "      <td>None</td>\n",
       "      <td>...</td>\n",
       "      <td>0</td>\n",
       "      <td>2</td>\n",
       "      <td>700</td>\n",
       "      <td>9</td>\n",
       "      <td>10</td>\n",
       "      <td>1153</td>\n",
       "      <td>832</td>\n",
       "      <td>9</td>\n",
       "      <td>2.0</td>\n",
       "      <td>1</td>\n",
       "    </tr>\n",
       "    <tr>\n",
       "      <th>1</th>\n",
       "      <td>B0_2314</td>\n",
       "      <td>16</td>\n",
       "      <td>6</td>\n",
       "      <td>utf-8</td>\n",
       "      <td>Apache/2.4.10</td>\n",
       "      <td>15087.0</td>\n",
       "      <td>None</td>\n",
       "      <td>None</td>\n",
       "      <td>None</td>\n",
       "      <td>None</td>\n",
       "      <td>...</td>\n",
       "      <td>7</td>\n",
       "      <td>4</td>\n",
       "      <td>1230</td>\n",
       "      <td>17</td>\n",
       "      <td>19</td>\n",
       "      <td>1265</td>\n",
       "      <td>1230</td>\n",
       "      <td>17</td>\n",
       "      <td>0.0</td>\n",
       "      <td>0</td>\n",
       "    </tr>\n",
       "    <tr>\n",
       "      <th>2</th>\n",
       "      <td>B0_911</td>\n",
       "      <td>16</td>\n",
       "      <td>6</td>\n",
       "      <td>us-ascii</td>\n",
       "      <td>Microsoft-HTTPAPI/2.0</td>\n",
       "      <td>324.0</td>\n",
       "      <td>None</td>\n",
       "      <td>None</td>\n",
       "      <td>None</td>\n",
       "      <td>None</td>\n",
       "      <td>...</td>\n",
       "      <td>0</td>\n",
       "      <td>0</td>\n",
       "      <td>0</td>\n",
       "      <td>0</td>\n",
       "      <td>0</td>\n",
       "      <td>0</td>\n",
       "      <td>0</td>\n",
       "      <td>0</td>\n",
       "      <td>0.0</td>\n",
       "      <td>0</td>\n",
       "    </tr>\n",
       "    <tr>\n",
       "      <th>3</th>\n",
       "      <td>B0_113</td>\n",
       "      <td>17</td>\n",
       "      <td>6</td>\n",
       "      <td>iso-8859-1</td>\n",
       "      <td>nginx</td>\n",
       "      <td>162.0</td>\n",
       "      <td>US</td>\n",
       "      <td>AK</td>\n",
       "      <td>7/10/1997 4:00</td>\n",
       "      <td>12/09/2013 0:45</td>\n",
       "      <td>...</td>\n",
       "      <td>22</td>\n",
       "      <td>3</td>\n",
       "      <td>3812</td>\n",
       "      <td>39</td>\n",
       "      <td>37</td>\n",
       "      <td>18784</td>\n",
       "      <td>4380</td>\n",
       "      <td>39</td>\n",
       "      <td>8.0</td>\n",
       "      <td>0</td>\n",
       "    </tr>\n",
       "    <tr>\n",
       "      <th>4</th>\n",
       "      <td>B0_403</td>\n",
       "      <td>17</td>\n",
       "      <td>6</td>\n",
       "      <td>utf-8</td>\n",
       "      <td>None</td>\n",
       "      <td>124140.0</td>\n",
       "      <td>US</td>\n",
       "      <td>TX</td>\n",
       "      <td>12/05/1996 0:00</td>\n",
       "      <td>11/04/2017 0:00</td>\n",
       "      <td>...</td>\n",
       "      <td>2</td>\n",
       "      <td>5</td>\n",
       "      <td>4278</td>\n",
       "      <td>61</td>\n",
       "      <td>62</td>\n",
       "      <td>129889</td>\n",
       "      <td>4586</td>\n",
       "      <td>61</td>\n",
       "      <td>4.0</td>\n",
       "      <td>0</td>\n",
       "    </tr>\n",
       "  </tbody>\n",
       "</table>\n",
       "<p>5 rows × 21 columns</p>\n",
       "</div>"
      ],
      "text/plain": [
       "       URL  URL_LENGTH  NUMBER_SPECIAL_CHARACTERS     CHARSET  \\\n",
       "0   M0_109          16                          7  iso-8859-1   \n",
       "1  B0_2314          16                          6       utf-8   \n",
       "2   B0_911          16                          6    us-ascii   \n",
       "3   B0_113          17                          6  iso-8859-1   \n",
       "4   B0_403          17                          6       utf-8   \n",
       "\n",
       "                  SERVER  CONTENT_LENGTH WHOIS_COUNTRY WHOIS_STATEPRO  \\\n",
       "0                  nginx           263.0          None           None   \n",
       "1          Apache/2.4.10         15087.0          None           None   \n",
       "2  Microsoft-HTTPAPI/2.0           324.0          None           None   \n",
       "3                  nginx           162.0            US             AK   \n",
       "4                   None        124140.0            US             TX   \n",
       "\n",
       "      WHOIS_REGDATE WHOIS_UPDATED_DATE  ...   DIST_REMOTE_TCP_PORT  \\\n",
       "0  10/10/2015 18:21               None  ...                      0   \n",
       "1              None               None  ...                      7   \n",
       "2              None               None  ...                      0   \n",
       "3    7/10/1997 4:00    12/09/2013 0:45  ...                     22   \n",
       "4   12/05/1996 0:00    11/04/2017 0:00  ...                      2   \n",
       "\n",
       "   REMOTE_IPS  APP_BYTES  SOURCE_APP_PACKETS  REMOTE_APP_PACKETS  \\\n",
       "0           2        700                   9                  10   \n",
       "1           4       1230                  17                  19   \n",
       "2           0          0                   0                   0   \n",
       "3           3       3812                  39                  37   \n",
       "4           5       4278                  61                  62   \n",
       "\n",
       "   SOURCE_APP_BYTES  REMOTE_APP_BYTES  APP_PACKETS  DNS_QUERY_TIMES  Type  \n",
       "0              1153               832            9              2.0     1  \n",
       "1              1265              1230           17              0.0     0  \n",
       "2                 0                 0            0              0.0     0  \n",
       "3             18784              4380           39              8.0     0  \n",
       "4            129889              4586           61              4.0     0  \n",
       "\n",
       "[5 rows x 21 columns]"
      ]
     },
     "execution_count": 75,
     "metadata": {},
     "output_type": "execute_result"
    }
   ],
   "source": [
    "# seeing the data\n",
    "data = pd.read_csv(\"dataset.csv\")\n",
    "print(data.shape)\n",
    "data.head()"
   ]
  },
  {
   "cell_type": "code",
   "execution_count": 76,
   "metadata": {},
   "outputs": [
    {
     "data": {
      "text/plain": [
       "0    1565\n",
       "1     216\n",
       "Name: Type, dtype: int64"
      ]
     },
     "execution_count": 76,
     "metadata": {},
     "output_type": "execute_result"
    }
   ],
   "source": [
    "#in the dataset, there is 21 columns, the last column is the class label\n",
    "#lets check whether the dataset is imbalance\n",
    "data[\"Type\"].value_counts()"
   ]
  },
  {
   "cell_type": "markdown",
   "metadata": {},
   "source": [
    "The dataset is highly imbalanced. Only 216 datapoints are malicious or phishing. i.e. only 12% of the data has class label 1"
   ]
  },
  {
   "cell_type": "markdown",
   "metadata": {},
   "source": [
    "## Feature exploration\n",
    "#### 1. URL_LENGTH"
   ]
  },
  {
   "cell_type": "code",
   "execution_count": 77,
   "metadata": {},
   "outputs": [
    {
     "name": "stdout",
     "output_type": "stream",
     "text": [
      "Number of unique values in URL_LENGTH 142\n",
      "mean of URL_LENGTH 56.96125772038181\n"
     ]
    },
    {
     "data": {
      "image/png": "[encoded data removed]",
      "text/plain": [
       "<Figure size 432x288 with 1 Axes>"
      ]
     },
     "metadata": {},
     "output_type": "display_data"
    }
   ],
   "source": [
    "print(\"Number of unique values in URL_LENGTH\",len(data[\"URL_LENGTH\"].value_counts()))\n",
    "print(\"mean of URL_LENGTH\",data[\"URL_LENGTH\"].mean())\n",
    "plt.scatter(data[\"URL_LENGTH\"], data[\"Type\"])\n",
    "plt.show()"
   ]
  },
  {
   "cell_type": "code",
   "execution_count": 78,
   "metadata": {},
   "outputs": [
    {
     "name": "stdout",
     "output_type": "stream",
     "text": [
      "(9, 21)\n",
      "1    5\n",
      "0    4\n",
      "Name: Type, dtype: int64\n"
     ]
    }
   ],
   "source": [
    "#from the above plot we can see that if the length of the url is greater than 170, very few are good urls\n",
    "#lets check that stats\n",
    "length_greater_170 = data[data[\"URL_LENGTH\"] > 170]\n",
    "print(length_greater_170.shape)\n",
    "print(length_greater_170[\"Type\"].value_counts())"
   ]
  },
  {
   "cell_type": "markdown",
   "metadata": {},
   "source": [
    "If the URL_LENGTH is too large then the chances of that website being suspicious is high"
   ]
  },
  {
   "cell_type": "markdown",
   "metadata": {},
   "source": [
    "#### 2. NUMBER OF SPECIAL CHARACTERS"
   ]
  },
  {
   "cell_type": "code",
   "execution_count": 79,
   "metadata": {},
   "outputs": [
    {
     "name": "stdout",
     "output_type": "stream",
     "text": [
      "Number of unique special characters: 31\n",
      "mean of NUMBER OF SPECIAL CHARACTERS 11.11173498034812\n"
     ]
    },
    {
     "data": {
      "image/png": "[encoded data removed]",
      "text/plain": [
       "<Figure size 432x288 with 1 Axes>"
      ]
     },
     "metadata": {},
     "output_type": "display_data"
    }
   ],
   "source": [
    "print(\"Number of unique special characters:\", len(data[\"NUMBER_SPECIAL_CHARACTERS\"].value_counts()))\n",
    "print(\"mean of NUMBER OF SPECIAL CHARACTERS\",data[\"NUMBER_SPECIAL_CHARACTERS\"].mean())\n",
    "plt.scatter(data[\"NUMBER_SPECIAL_CHARACTERS\"], data[\"Type\"])\n",
    "plt.show()"
   ]
  },
  {
   "cell_type": "code",
   "execution_count": 80,
   "metadata": {},
   "outputs": [
    {
     "name": "stdout",
     "output_type": "stream",
     "text": [
      "(28, 21)\n",
      "1    19\n",
      "0     9\n",
      "Name: Type, dtype: int64\n"
     ]
    }
   ],
   "source": [
    "#from the above plot we can see that if the NUMBER OF SPECIAL CHARACTERS is greater than 25, very few are good urls\n",
    "#lets check that stats\n",
    "SPCL_CHARS_25 = data[data[\"NUMBER_SPECIAL_CHARACTERS\"] > 25]\n",
    "print(SPCL_CHARS_25.shape)\n",
    "print(SPCL_CHARS_25[\"Type\"].value_counts())"
   ]
  },
  {
   "cell_type": "markdown",
   "metadata": {},
   "source": [
    "If the number of special characters in an url is more than 25, most of cases the url turns out not to be good"
   ]
  },
  {
   "cell_type": "code",
   "execution_count": 81,
   "metadata": {},
   "outputs": [
    {
     "data": {
      "image/png": "[encoded data removed]",
      "text/plain": [
       "<Figure size 402.375x360 with 1 Axes>"
      ]
     },
     "metadata": {},
     "output_type": "display_data"
    }
   ],
   "source": [
    "#lets check how these two feature together behaves with the class label\n",
    "sns.FacetGrid(data, hue=\"Type\", size=5) \\\n",
    "   .map(plt.scatter, \"URL_LENGTH\", \"NUMBER_SPECIAL_CHARACTERS\") \\\n",
    "   .add_legend()\n",
    "plt.show()"
   ]
  },
  {
   "cell_type": "markdown",
   "metadata": {},
   "source": [
    "1. One thing to be noticed here is, if the URL_LENGTH is greater than 150 and NUMBER OF SPECIAL CHARACTERS is between 15 to 20, then the website is not legitimate.\n",
    "2. Also, if the URL LENGTH is greater than 120 and NUMBER OF SPECIAL CHARACTERS is between 22 to 30, a remarkable number of malicious url are there.\n",
    "Lets check that stats"
   ]
  },
  {
   "cell_type": "code",
   "execution_count": 82,
   "metadata": {},
   "outputs": [
    {
     "data": {
      "text/plain": [
       "1    27\n",
       "0     8\n",
       "Name: Type, dtype: int64"
      ]
     },
     "execution_count": 82,
     "metadata": {},
     "output_type": "execute_result"
    }
   ],
   "source": [
    "data_120 = data[data[\"URL_LENGTH\"] > 120]\n",
    "data_160 = data_120[data_120[\"URL_LENGTH\"] < 155]\n",
    "data_22 = data_160[data_160[\"NUMBER_SPECIAL_CHARACTERS\"] > 22 ]\n",
    "data_30 = data_22[data_22[\"NUMBER_SPECIAL_CHARACTERS\"] <= 30]\n",
    "data_30[\"Type\"].value_counts()"
   ]
  },
  {
   "cell_type": "markdown",
   "metadata": {},
   "source": [
    "We can see that,\n",
    ">if url_length > 120 && url_length < 155 && number of character > 22 && number of characters < 30:\n",
    ">>                \"77 percent of time the url is malicious\""
   ]
  },
  {
   "cell_type": "markdown",
   "metadata": {},
   "source": [
    "#### 3. CHARSET"
   ]
  },
  {
   "cell_type": "code",
   "execution_count": 83,
   "metadata": {},
   "outputs": [
    {
     "name": "stdout",
     "output_type": "stream",
     "text": [
      "unique values:\n"
     ]
    },
    {
     "data": {
      "text/plain": [
       "utf-8           1055\n",
       "iso-8859-1       561\n",
       "us-ascii         155\n",
       "None               7\n",
       "ISO-8859           1\n",
       "windows-1251       1\n",
       "windows-1252       1\n",
       "Name: CHARSET, dtype: int64"
      ]
     },
     "execution_count": 83,
     "metadata": {},
     "output_type": "execute_result"
    }
   ],
   "source": [
    "print(\"unique values:\")\n",
    "data[\"CHARSET\"].value_counts()"
   ]
  },
  {
   "cell_type": "code",
   "execution_count": 86,
   "metadata": {},
   "outputs": [
    {
     "name": "stdout",
     "output_type": "stream",
     "text": [
      "utf-8 (array([0, 1]), array([903, 152]))\n",
      "us-ascii (array([0, 1]), array([151,   4]))\n",
      "iso-8859-1 (array([0, 1]), array([503,  58]))\n",
      "None (array([0, 1]), array([6, 1]))\n",
      "ISO-8859 (array([0]), array([1]))\n",
      "windows-1251 (array([1]), array([1]))\n",
      "windows-1252 (array([0]), array([1]))\n"
     ]
    }
   ],
   "source": [
    "# r_temp1 = data[data[\"CHARSET\"]=='UTF-8']\n",
    "# print(\"UTF-8 : \",np.unique(r_temp1['Type'],return_counts=True))\n",
    "# r_temp1 = data[data[\"CHARSET\"]=='ISO-8859-1']\n",
    "# print('ISO-8859-1',np.unique(r_temp1['Type'],return_counts=True))\n",
    "x1,y1=[],[]\n",
    "r_temp1 = data[data[\"CHARSET\"]=='utf-8']\n",
    "print('utf-8',np.unique(r_temp1['Type'],return_counts=True))\n",
    "x1.append(np.unique(r_temp1['Type'],return_counts=True)[1][0])\n",
    "y1.append(np.unique(r_temp1['Type'],return_counts=True)[1][1])\n",
    "r_temp1 = data[data[\"CHARSET\"]=='us-ascii']\n",
    "print('us-ascii',np.unique(r_temp1['Type'],return_counts=True))\n",
    "x1.append(np.unique(r_temp1['Type'],return_counts=True)[1][0])\n",
    "y1.append(np.unique(r_temp1['Type'],return_counts=True)[1][1])\n",
    "r_temp1 = data[data[\"CHARSET\"]=='iso-8859-1']\n",
    "print('iso-8859-1',np.unique(r_temp1['Type'],return_counts=True))\n",
    "x1.append(np.unique(r_temp1['Type'],return_counts=True)[1][0])\n",
    "y1.append(np.unique(r_temp1['Type'],return_counts=True)[1][1])\n",
    "r_temp1 = data[data[\"CHARSET\"]=='None']\n",
    "print('None',np.unique(r_temp1['Type'],return_counts=True))\n",
    "x1.append(np.unique(r_temp1['Type'],return_counts=True)[1][0])\n",
    "y1.append(np.unique(r_temp1['Type'],return_counts=True)[1][1])\n",
    "r_temp1 = data[data[\"CHARSET\"]=='ISO-8859']\n",
    "print('ISO-8859',np.unique(r_temp1['Type'],return_counts=True))\n",
    "x1.append(np.unique(r_temp1['Type'],return_counts=True)[1][0])\n",
    "y1.append(0)\n",
    "r_temp1 = data[data[\"CHARSET\"]=='windows-1251']\n",
    "print('windows-1251',np.unique(r_temp1['Type'],return_counts=True))\n",
    "x1.append(0)\n",
    "y1.append(np.unique(r_temp1['Type'],return_counts=True)[1][0])\n",
    "r_temp1 = data[data[\"CHARSET\"]=='windows-1252']\n",
    "print('windows-1252',np.unique(r_temp1['Type'],return_counts=True))\n",
    "x1.append(np.unique(r_temp1['Type'],return_counts=True)[1][0])\n",
    "y1.append(0)"
   ]
  },
  {
   "cell_type": "code",
   "execution_count": 102,
   "metadata": {
    "scrolled": false
   },
   "outputs": [
    {
     "data": {
      "image/png": "[encoded data removed]",
      "text/plain": [
       "<Figure size 1080x720 with 1 Axes>"
      ]
     },
     "metadata": {},
     "output_type": "display_data"
    }
   ],
   "source": [
    "good_url = data[data[\"Type\"] == 0][\"CHARSET\"]\n",
    "bad_url = data[data[\"Type\"] == 1][\"CHARSET\"]\n",
    "plt.figure(figsize = (15,10))\n",
    "plt.hist([good_url , bad_url])\n",
    "plt.xlabel(\"CHARSET\")\n",
    "plt.ylabel(\"COUNTS\")\n",
    "plt.legend(('Good_url', 'BAD_url'))\n",
    "\n",
    "plt.show()\n"
   ]
  },
  {
   "cell_type": "code",
   "execution_count": null,
   "metadata": {},
   "outputs": [],
   "source": []
  }
 ],
 "metadata": {
  "kernelspec": {
   "display_name": "Python 3",
   "language": "python",
   "name": "python3"
  },
  "language_info": {
   "codemirror_mode": {
    "name": "ipython",
    "version": 3
   },
   "file_extension": ".py",
   "mimetype": "text/x-python",
   "name": "python",
   "nbconvert_exporter": "python",
   "pygments_lexer": "ipython3",
   "version": "3.6.8"
  }
 },
 "nbformat": 4,
 "nbformat_minor": 2
}
