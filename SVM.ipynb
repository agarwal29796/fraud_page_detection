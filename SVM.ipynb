{
 "cells": [
  {
   "cell_type": "code",
   "execution_count": 1,
   "metadata": {},
   "outputs": [],
   "source": [
    "import pandas as pd  \n",
    "import numpy as np  \n",
    "import matplotlib.pyplot as plt"
   ]
  },
  {
   "cell_type": "code",
   "execution_count": 2,
   "metadata": {},
   "outputs": [
    {
     "name": "stdout",
     "output_type": "stream",
     "text": [
      "(1819, 94)\n"
     ]
    },
    {
     "data": {
      "text/html": [
       "<div>\n",
       "<style scoped>\n",
       "    .dataframe tbody tr th:only-of-type {\n",
       "        vertical-align: middle;\n",
       "    }\n",
       "\n",
       "    .dataframe tbody tr th {\n",
       "        vertical-align: top;\n",
       "    }\n",
       "\n",
       "    .dataframe thead th {\n",
       "        text-align: right;\n",
       "    }\n",
       "</style>\n",
       "<table border=\"1\" class=\"dataframe\">\n",
       "  <thead>\n",
       "    <tr style=\"text-align: right;\">\n",
       "      <th></th>\n",
       "      <th>url_length</th>\n",
       "      <th>special_character_count</th>\n",
       "      <th>dns_response_time</th>\n",
       "      <th>handshake_time</th>\n",
       "      <th>data_time</th>\n",
       "      <th>data_length</th>\n",
       "      <th>scripts_count</th>\n",
       "      <th>iframe_count</th>\n",
       "      <th>external_link_count</th>\n",
       "      <th>total_strings_count</th>\n",
       "      <th>...</th>\n",
       "      <th>server_name_nginx/1.14.1</th>\n",
       "      <th>server_name_nginx/1.14.2</th>\n",
       "      <th>server_name_nginx/1.15.6</th>\n",
       "      <th>server_name_nginx/1.4.6 (Ubuntu)</th>\n",
       "      <th>server_name_openresty</th>\n",
       "      <th>server_name_server_name_nan</th>\n",
       "      <th>server_name_server_name_single</th>\n",
       "      <th>server_name_tsa_k</th>\n",
       "      <th>label</th>\n",
       "      <th>url_name</th>\n",
       "    </tr>\n",
       "  </thead>\n",
       "  <tbody>\n",
       "    <tr>\n",
       "      <th>0</th>\n",
       "      <td>27</td>\n",
       "      <td>2</td>\n",
       "      <td>1.866579</td>\n",
       "      <td>809.915781</td>\n",
       "      <td>185.235262</td>\n",
       "      <td>301912.0</td>\n",
       "      <td>8.0</td>\n",
       "      <td>6.0</td>\n",
       "      <td>73.0</td>\n",
       "      <td>26397.0</td>\n",
       "      <td>...</td>\n",
       "      <td>0</td>\n",
       "      <td>0</td>\n",
       "      <td>0</td>\n",
       "      <td>0</td>\n",
       "      <td>0</td>\n",
       "      <td>0</td>\n",
       "      <td>0</td>\n",
       "      <td>1</td>\n",
       "      <td>good</td>\n",
       "      <td>twitter.com/aQuariusrecOrds</td>\n",
       "    </tr>\n",
       "    <tr>\n",
       "      <th>1</th>\n",
       "      <td>12</td>\n",
       "      <td>2</td>\n",
       "      <td>654.555559</td>\n",
       "      <td>3379.443407</td>\n",
       "      <td>799.807549</td>\n",
       "      <td>162844.0</td>\n",
       "      <td>33.0</td>\n",
       "      <td>0.0</td>\n",
       "      <td>18.0</td>\n",
       "      <td>9289.0</td>\n",
       "      <td>...</td>\n",
       "      <td>0</td>\n",
       "      <td>0</td>\n",
       "      <td>0</td>\n",
       "      <td>0</td>\n",
       "      <td>0</td>\n",
       "      <td>0</td>\n",
       "      <td>0</td>\n",
       "      <td>0</td>\n",
       "      <td>good</td>\n",
       "      <td>tong464.org/</td>\n",
       "    </tr>\n",
       "    <tr>\n",
       "      <th>2</th>\n",
       "      <td>92</td>\n",
       "      <td>12</td>\n",
       "      <td>57.567120</td>\n",
       "      <td>2735.617161</td>\n",
       "      <td>29.102325</td>\n",
       "      <td>129957.0</td>\n",
       "      <td>55.0</td>\n",
       "      <td>2.0</td>\n",
       "      <td>58.0</td>\n",
       "      <td>22093.0</td>\n",
       "      <td>...</td>\n",
       "      <td>0</td>\n",
       "      <td>0</td>\n",
       "      <td>0</td>\n",
       "      <td>0</td>\n",
       "      <td>0</td>\n",
       "      <td>0</td>\n",
       "      <td>0</td>\n",
       "      <td>0</td>\n",
       "      <td>good</td>\n",
       "      <td>legacy.com/obituaries/orlandosentinel/obituary...</td>\n",
       "    </tr>\n",
       "    <tr>\n",
       "      <th>3</th>\n",
       "      <td>24</td>\n",
       "      <td>3</td>\n",
       "      <td>1.390219</td>\n",
       "      <td>1009.941101</td>\n",
       "      <td>0.138521</td>\n",
       "      <td>3453.0</td>\n",
       "      <td>1.0</td>\n",
       "      <td>0.0</td>\n",
       "      <td>1.0</td>\n",
       "      <td>8.0</td>\n",
       "      <td>...</td>\n",
       "      <td>1</td>\n",
       "      <td>0</td>\n",
       "      <td>0</td>\n",
       "      <td>0</td>\n",
       "      <td>0</td>\n",
       "      <td>0</td>\n",
       "      <td>0</td>\n",
       "      <td>0</td>\n",
       "      <td>good</td>\n",
       "      <td>natcath.org/ncr_onli.htm</td>\n",
       "    </tr>\n",
       "    <tr>\n",
       "      <th>4</th>\n",
       "      <td>29</td>\n",
       "      <td>2</td>\n",
       "      <td>1.077890</td>\n",
       "      <td>6096.054077</td>\n",
       "      <td>350.750208</td>\n",
       "      <td>204520.0</td>\n",
       "      <td>85.0</td>\n",
       "      <td>4.0</td>\n",
       "      <td>41.0</td>\n",
       "      <td>8248.0</td>\n",
       "      <td>...</td>\n",
       "      <td>0</td>\n",
       "      <td>0</td>\n",
       "      <td>0</td>\n",
       "      <td>0</td>\n",
       "      <td>0</td>\n",
       "      <td>0</td>\n",
       "      <td>0</td>\n",
       "      <td>0</td>\n",
       "      <td>good</td>\n",
       "      <td>wn.com/San_Diego_State_Aztecs</td>\n",
       "    </tr>\n",
       "  </tbody>\n",
       "</table>\n",
       "<p>5 rows × 94 columns</p>\n",
       "</div>"
      ],
      "text/plain": [
       "   url_length  special_character_count  dns_response_time  handshake_time  \\\n",
       "0          27                        2           1.866579      809.915781   \n",
       "1          12                        2         654.555559     3379.443407   \n",
       "2          92                       12          57.567120     2735.617161   \n",
       "3          24                        3           1.390219     1009.941101   \n",
       "4          29                        2           1.077890     6096.054077   \n",
       "\n",
       "    data_time  data_length  scripts_count  iframe_count  external_link_count  \\\n",
       "0  185.235262     301912.0            8.0           6.0                 73.0   \n",
       "1  799.807549     162844.0           33.0           0.0                 18.0   \n",
       "2   29.102325     129957.0           55.0           2.0                 58.0   \n",
       "3    0.138521       3453.0            1.0           0.0                  1.0   \n",
       "4  350.750208     204520.0           85.0           4.0                 41.0   \n",
       "\n",
       "   total_strings_count  ...  server_name_nginx/1.14.1  \\\n",
       "0              26397.0  ...                         0   \n",
       "1               9289.0  ...                         0   \n",
       "2              22093.0  ...                         0   \n",
       "3                  8.0  ...                         1   \n",
       "4               8248.0  ...                         0   \n",
       "\n",
       "   server_name_nginx/1.14.2  server_name_nginx/1.15.6  \\\n",
       "0                         0                         0   \n",
       "1                         0                         0   \n",
       "2                         0                         0   \n",
       "3                         0                         0   \n",
       "4                         0                         0   \n",
       "\n",
       "   server_name_nginx/1.4.6 (Ubuntu)  server_name_openresty  \\\n",
       "0                                 0                      0   \n",
       "1                                 0                      0   \n",
       "2                                 0                      0   \n",
       "3                                 0                      0   \n",
       "4                                 0                      0   \n",
       "\n",
       "   server_name_server_name_nan  server_name_server_name_single  \\\n",
       "0                            0                               0   \n",
       "1                            0                               0   \n",
       "2                            0                               0   \n",
       "3                            0                               0   \n",
       "4                            0                               0   \n",
       "\n",
       "   server_name_tsa_k  label                                           url_name  \n",
       "0                  1   good                        twitter.com/aQuariusrecOrds  \n",
       "1                  0   good                                       tong464.org/  \n",
       "2                  0   good  legacy.com/obituaries/orlandosentinel/obituary...  \n",
       "3                  0   good                           natcath.org/ncr_onli.htm  \n",
       "4                  0   good                      wn.com/San_Diego_State_Aztecs  \n",
       "\n",
       "[5 rows x 94 columns]"
      ]
     },
     "execution_count": 2,
     "metadata": {},
     "output_type": "execute_result"
    }
   ],
   "source": [
    "data = pd.read_csv(\"preprocessed.csv\") \n",
    "print(data.shape)  \n",
    "data.head()"
   ]
  },
  {
   "cell_type": "code",
   "execution_count": 3,
   "metadata": {},
   "outputs": [],
   "source": [
    "from sklearn.preprocessing import LabelEncoder\n",
    "\n",
    "data.iloc[:,92] = LabelEncoder().fit_transform(data.iloc[:,92])\n",
    "data = data.interpolate(method ='linear', limit_direction ='forward') \n",
    "X = data.drop(data.columns[[92,93]],axis=1)\n",
    "y = data.iloc[:,92]"
   ]
  },
  {
   "cell_type": "code",
   "execution_count": 4,
   "metadata": {},
   "outputs": [],
   "source": [
    "from sklearn import preprocessing\n",
    "x = X.values\n",
    "min_max_scaler = preprocessing.MinMaxScaler()\n",
    "x_scaled = min_max_scaler.fit_transform(x)\n",
    "X = pd.DataFrame(x_scaled)"
   ]
  },
  {
   "cell_type": "code",
   "execution_count": 5,
   "metadata": {},
   "outputs": [
    {
     "data": {
      "text/plain": [
       "[]"
      ]
     },
     "execution_count": 5,
     "metadata": {},
     "output_type": "execute_result"
    }
   ],
   "source": [
    "X.columns[X.isna().any()].tolist()"
   ]
  },
  {
   "cell_type": "code",
   "execution_count": 6,
   "metadata": {},
   "outputs": [],
   "source": [
    "from sklearn.model_selection import train_test_split  \n",
    "X_train, X_test, y_train, y_test = train_test_split(X, y, test_size = 0.20) "
   ]
  },
  {
   "cell_type": "code",
   "execution_count": 7,
   "metadata": {},
   "outputs": [],
   "source": [
    "from sklearn.svm import SVC  \n",
    "svclassifier = SVC(kernel='linear')  \n",
    "svclassifier.fit(X_train, y_train) \n",
    "\n",
    "y_pred = svclassifier.predict(X_test)  "
   ]
  },
  {
   "cell_type": "code",
   "execution_count": 8,
   "metadata": {},
   "outputs": [
    {
     "name": "stdout",
     "output_type": "stream",
     "text": [
      "[[  1  45]\n",
      " [  0 318]]\n",
      "              precision    recall  f1-score   support\n",
      "\n",
      "           0       1.00      0.02      0.04        46\n",
      "           1       0.88      1.00      0.93       318\n",
      "\n",
      "   micro avg       0.88      0.88      0.88       364\n",
      "   macro avg       0.94      0.51      0.49       364\n",
      "weighted avg       0.89      0.88      0.82       364\n",
      "\n"
     ]
    }
   ],
   "source": [
    "from sklearn.metrics import classification_report, confusion_matrix  \n",
    "print(confusion_matrix(y_test,y_pred))  \n",
    "print(classification_report(y_test,y_pred)) "
   ]
  },
  {
   "cell_type": "code",
   "execution_count": 12,
   "metadata": {},
   "outputs": [
    {
     "name": "stdout",
     "output_type": "stream",
     "text": [
      "(array([0, 1]), array([ 46, 318]))\n",
      "(array([0, 1]), array([  1, 363]))\n"
     ]
    }
   ],
   "source": [
    "print(np.unique(y_test,return_counts=True))\n",
    "print(np.unique(y_pred,return_counts=True))"
   ]
  },
  {
   "cell_type": "code",
   "execution_count": null,
   "metadata": {},
   "outputs": [],
   "source": []
  }
 ],
 "metadata": {
  "kernelspec": {
   "display_name": "Python 3",
   "language": "python",
   "name": "python3"
  },
  "language_info": {
   "codemirror_mode": {
    "name": "ipython",
    "version": 3
   },
   "file_extension": ".py",
   "mimetype": "text/x-python",
   "name": "python",
   "nbconvert_exporter": "python",
   "pygments_lexer": "ipython3",
   "version": "3.6.7"
  }
 },
 "nbformat": 4,
 "nbformat_minor": 2
}
