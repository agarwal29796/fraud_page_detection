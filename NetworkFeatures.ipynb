{
 "cells": [
  {
   "cell_type": "code",
   "execution_count": 1,
   "metadata": {},
   "outputs": [],
   "source": [
    "import datetime\n",
    "import socket\n",
    "import requests as req\n",
    "import re"
   ]
  },
  {
   "cell_type": "code",
   "execution_count": 2,
   "metadata": {},
   "outputs": [
    {
     "name": "stdout",
     "output_type": "stream",
     "text": [
      "3.95942 ms\n"
     ]
    }
   ],
   "source": [
    "# Calculate DNS response time\n",
    "import time\n",
    "hostname = \"google.com\"\n",
    "startTime = time.time()\n",
    "ip = socket.gethostbyname(hostname)\n",
    "endTime = time.time()\n",
    "diff = (endTime - startTime)* 1000\n",
    "print(\"%.5f\"%diff,\"ms\")"
   ]
  },
  {
   "cell_type": "code",
   "execution_count": 3,
   "metadata": {},
   "outputs": [
    {
     "name": "stdout",
     "output_type": "stream",
     "text": [
      "HTTP handshake time = 349.87068 ms\n",
      "data time = 0.00000 ms\n",
      "13640\n"
     ]
    }
   ],
   "source": [
    "import time\n",
    "import ssl\n",
    "import urllib.request  as urllib2\n",
    "url = \"https://\"+hostname\n",
    "gcontext = ssl._create_unverified_context()\n",
    "handshake_start = time.time()\n",
    "stream = urllib2.urlopen(url,context=gcontext)\n",
    "\n",
    "handshake_end = time.time()\n",
    "handshake_time = (handshake_end - handshake_start) * 1000\n",
    "print ('HTTP handshake time = %.5f ms' %handshake_time)\n",
    "data_start = time.time()\n",
    "data_length = len(stream.read())\n",
    "data_end = time.time()\n",
    "data_time = (data_end - data_start)*1000\n",
    "print(\"data time = %.5f ms\" %data_time)\n",
    "print(data_length)"
   ]
  },
  {
   "cell_type": "code",
   "execution_count": 4,
   "metadata": {},
   "outputs": [
    {
     "name": "stdout",
     "output_type": "stream",
     "text": [
      "google.com\n",
      "1\n"
     ]
    }
   ],
   "source": [
    "#page rank\n",
    "import sys, bs4\n",
    "import urllib.request as urllib3\n",
    "temp=input()\n",
    "print (bs4.BeautifulSoup(urllib3.urlopen(\"http://data.alexa.com/data?cli=10&dat=s&url=\"+ temp, context=gcontext).read(), \"xml\").find(\"REACH\")['RANK'])"
   ]
  },
  {
   "cell_type": "code",
   "execution_count": 55,
   "metadata": {},
   "outputs": [
    {
     "name": "stdout",
     "output_type": "stream",
     "text": [
      "dnaskjdgabkdbk\n"
     ]
    },
    {
     "ename": "OSError",
     "evalue": "[WinError 10013] An attempt was made to access a socket in a way forbidden by its access permissions",
     "output_type": "error",
     "traceback": [
      "\u001b[1;31m---------------------------------------------------------------------------\u001b[0m",
      "\u001b[1;31mOSError\u001b[0m                                   Traceback (most recent call last)",
      "\u001b[1;32m<ipython-input-55-9cd3ae89cfe0>\u001b[0m in \u001b[0;36m<module>\u001b[1;34m()\u001b[0m\n\u001b[0;32m     11\u001b[0m \u001b[1;32mif\u001b[0m \u001b[0mos\u001b[0m\u001b[1;33m.\u001b[0m\u001b[0mname\u001b[0m \u001b[1;33m==\u001b[0m \u001b[1;34m\"nt\"\u001b[0m\u001b[1;33m:\u001b[0m\u001b[1;33m\u001b[0m\u001b[0m\n\u001b[0;32m     12\u001b[0m     \u001b[0mprint\u001b[0m\u001b[1;33m(\u001b[0m\u001b[1;34m\"dnaskjdgabkdbk\"\u001b[0m\u001b[1;33m)\u001b[0m\u001b[1;33m\u001b[0m\u001b[0m\n\u001b[1;32m---> 13\u001b[1;33m     \u001b[0ms\u001b[0m \u001b[1;33m=\u001b[0m \u001b[0msocket\u001b[0m\u001b[1;33m.\u001b[0m\u001b[0msocket\u001b[0m\u001b[1;33m(\u001b[0m\u001b[0msocket\u001b[0m\u001b[1;33m.\u001b[0m\u001b[0mAF_INET\u001b[0m\u001b[1;33m,\u001b[0m\u001b[0msocket\u001b[0m\u001b[1;33m.\u001b[0m\u001b[0mSOCK_RAW\u001b[0m\u001b[1;33m,\u001b[0m\u001b[0msocket\u001b[0m\u001b[1;33m.\u001b[0m\u001b[0mIPPROTO_IP\u001b[0m\u001b[1;33m)\u001b[0m\u001b[1;33m\u001b[0m\u001b[0m\n\u001b[0m\u001b[0;32m     14\u001b[0m     \u001b[0ms\u001b[0m\u001b[1;33m.\u001b[0m\u001b[0mbind\u001b[0m\u001b[1;33m(\u001b[0m\u001b[1;33m(\u001b[0m\u001b[0mip\u001b[0m\u001b[1;33m,\u001b[0m\u001b[1;36m0\u001b[0m\u001b[1;33m)\u001b[0m\u001b[1;33m)\u001b[0m\u001b[1;33m\u001b[0m\u001b[0m\n\u001b[0;32m     15\u001b[0m     \u001b[0ms\u001b[0m\u001b[1;33m.\u001b[0m\u001b[0msetsockopt\u001b[0m\u001b[1;33m(\u001b[0m\u001b[0msocket\u001b[0m\u001b[1;33m.\u001b[0m\u001b[0mIPPROTO_IP\u001b[0m\u001b[1;33m,\u001b[0m\u001b[0msocket\u001b[0m\u001b[1;33m.\u001b[0m\u001b[0mIP_HDRINCL\u001b[0m\u001b[1;33m,\u001b[0m\u001b[1;36m1\u001b[0m\u001b[1;33m)\u001b[0m\u001b[1;33m\u001b[0m\u001b[0m\n",
      "\u001b[1;32m~\\Anaconda3\\lib\\socket.py\u001b[0m in \u001b[0;36m__init__\u001b[1;34m(self, family, type, proto, fileno)\u001b[0m\n\u001b[0;32m    142\u001b[0m         \u001b[1;31m# constructor of _socket.socket converts the given argument to an\u001b[0m\u001b[1;33m\u001b[0m\u001b[1;33m\u001b[0m\u001b[0m\n\u001b[0;32m    143\u001b[0m         \u001b[1;31m# integer automatically.\u001b[0m\u001b[1;33m\u001b[0m\u001b[1;33m\u001b[0m\u001b[0m\n\u001b[1;32m--> 144\u001b[1;33m         \u001b[0m_socket\u001b[0m\u001b[1;33m.\u001b[0m\u001b[0msocket\u001b[0m\u001b[1;33m.\u001b[0m\u001b[0m__init__\u001b[0m\u001b[1;33m(\u001b[0m\u001b[0mself\u001b[0m\u001b[1;33m,\u001b[0m \u001b[0mfamily\u001b[0m\u001b[1;33m,\u001b[0m \u001b[0mtype\u001b[0m\u001b[1;33m,\u001b[0m \u001b[0mproto\u001b[0m\u001b[1;33m,\u001b[0m \u001b[0mfileno\u001b[0m\u001b[1;33m)\u001b[0m\u001b[1;33m\u001b[0m\u001b[0m\n\u001b[0m\u001b[0;32m    145\u001b[0m         \u001b[0mself\u001b[0m\u001b[1;33m.\u001b[0m\u001b[0m_io_refs\u001b[0m \u001b[1;33m=\u001b[0m \u001b[1;36m0\u001b[0m\u001b[1;33m\u001b[0m\u001b[0m\n\u001b[0;32m    146\u001b[0m         \u001b[0mself\u001b[0m\u001b[1;33m.\u001b[0m\u001b[0m_closed\u001b[0m \u001b[1;33m=\u001b[0m \u001b[1;32mFalse\u001b[0m\u001b[1;33m\u001b[0m\u001b[0m\n",
      "\u001b[1;31mOSError\u001b[0m: [WinError 10013] An attempt was made to access a socket in a way forbidden by its access permissions"
     ]
    }
   ],
   "source": [
    "import socket \n",
    "import struct\n",
    "import binascii\n",
    "import os\n",
    "import pye\n",
    "\n",
    "# print author details on terminal\n",
    "# print pye.__author__\n",
    "\n",
    "# if operating system is windows\n",
    "if os.name == \"nt\":\n",
    "#     print(\"dnaskjdgabkdbk\")\n",
    "    s = socket.socket(socket.AF_INET,socket.SOCK_RAW,socket.IPPROTO_IP)\n",
    "    s.bind((ip,0))\n",
    "    s.setsockopt(socket.IPPROTO_IP,socket.IP_HDRINCL,1)\n",
    "    s.ioctl(socket.SIO_RCVALL,socket.RCVALL_ON)\n",
    "\n",
    "# if operating system is linux\n",
    "else:\n",
    "    s=socket.socket(socket.PF_PACKET, socket.SOCK_RAW, socket.ntohs(0x0800))\n",
    "\n",
    "# create loop \n",
    "while True:\n",
    "\n",
    "    # Capture packets from network\n",
    "    pkt=s.recvfrom(65565)\n",
    "\n",
    "    # extract packets with the help of pye.unpack class \n",
    "    unpack=pye.unpack()\n",
    "\n",
    "    print (\"\\n\\n===&gt;&gt; [+] ------------ Ethernet Header----- [+]\")\n",
    "\n",
    "    # print data on terminal\n",
    "    for i in unpack.eth_header(pkt[0][0:14]).iteritems():\n",
    "        a,b=i\n",
    "        print (\"{} : {} | \".format(a,b),)\n",
    "    print (\"\\n===&gt;&gt; [+] ------------ IP Header ------------[+]\")\n",
    "    for i in unpack.ip_header(pkt[0][14:34]).iteritems():\n",
    "        a,b=i\n",
    "        print (\"{} : {} | \".format(a,b),)\n",
    "    print (\"\\n===&gt;&gt; [+] ------------ Tcp Header ----------- [+]\")\n",
    "    for  i in unpack.tcp_header(pkt[0][34:54]).iteritems():\n",
    "        a,b=i\n",
    "        print (\"{} : {} | \".format(a,b),)\n"
   ]
  },
  {
   "cell_type": "code",
   "execution_count": 56,
   "metadata": {},
   "outputs": [
    {
     "name": "stdout",
     "output_type": "stream",
     "text": [
      "nt\n"
     ]
    }
   ],
   "source": [
    "print(os.name)"
   ]
  },
  {
   "cell_type": "code",
   "execution_count": 64,
   "metadata": {},
   "outputs": [
    {
     "ename": "ModuleNotFoundError",
     "evalue": "No module named 'APP'",
     "output_type": "error",
     "traceback": [
      "\u001b[1;31m---------------------------------------------------------------------------\u001b[0m",
      "\u001b[1;31mModuleNotFoundError\u001b[0m                       Traceback (most recent call last)",
      "\u001b[1;32m<ipython-input-64-0e77561989ad>\u001b[0m in \u001b[0;36m<module>\u001b[1;34m()\u001b[0m\n\u001b[1;32m----> 1\u001b[1;33m \u001b[1;32mimport\u001b[0m \u001b[0mAPP\u001b[0m\u001b[1;33m\u001b[0m\u001b[0m\n\u001b[0m\u001b[0;32m      2\u001b[0m \u001b[0mAPP\u001b[0m\u001b[1;33m.\u001b[0m\u001b[0mrun\u001b[0m\u001b[1;33m(\u001b[0m\u001b[0mport\u001b[0m\u001b[1;33m=\u001b[0m\u001b[1;36m9999\u001b[0m\u001b[1;33m)\u001b[0m\u001b[1;33m\u001b[0m\u001b[0m\n\u001b[0;32m      3\u001b[0m \u001b[1;32mimport\u001b[0m \u001b[0msocket\u001b[0m\u001b[1;33m\u001b[0m\u001b[0m\n\u001b[0;32m      4\u001b[0m \u001b[1;33m\u001b[0m\u001b[0m\n\u001b[0;32m      5\u001b[0m \u001b[1;31m#create an INET, raw socket\u001b[0m\u001b[1;33m\u001b[0m\u001b[1;33m\u001b[0m\u001b[0m\n",
      "\u001b[1;31mModuleNotFoundError\u001b[0m: No module named 'APP'"
     ]
    }
   ],
   "source": [
    "import APP\n",
    "APP.run(port=9999)\n",
    "import socket\n",
    " \n",
    "#create an INET, raw socket\n",
    "s = socket.socket(socket.AF_INET, socket.SOCK_RAW, socket.IPPROTO_TCP)\n",
    " \n",
    "# receive a packet\n",
    "while True:\n",
    "\n",
    "   # print output on terminal\n",
    "   print (s.recvfrom(65565))"
   ]
  },
  {
   "cell_type": "code",
   "execution_count": null,
   "metadata": {},
   "outputs": [],
   "source": []
  }
 ],
 "metadata": {
  "kernelspec": {
   "display_name": "Python 3",
   "language": "python",
   "name": "python3"
  },
  "language_info": {
   "codemirror_mode": {
    "name": "ipython",
    "version": 3
   },
   "file_extension": ".py",
   "mimetype": "text/x-python",
   "name": "python",
   "nbconvert_exporter": "python",
   "pygments_lexer": "ipython3",
   "version": "3.6.5"
  }
 },
 "nbformat": 4,
 "nbformat_minor": 2
}
