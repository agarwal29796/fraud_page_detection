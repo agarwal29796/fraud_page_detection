{
 "cells": [
  {
   "cell_type": "markdown",
   "metadata": {},
   "source": [
    "### Data Exploration :  "
   ]
  },
  {
   "cell_type": "markdown",
   "metadata": {},
   "source": [
    "file:///home/archit/Downloads/complete_guide_of_project%20(1).pdf"
   ]
  },
  {
   "cell_type": "markdown",
   "metadata": {},
   "source": [
    "### Features based on web content information (including HTML and Script source code)  "
   ]
  },
  {
   "cell_type": "code",
   "execution_count": 1,
   "metadata": {},
   "outputs": [],
   "source": [
    "import requests\n",
    "import urllib.request\n",
    "import time\n",
    "from bs4 import BeautifulSoup"
   ]
  },
  {
   "cell_type": "code",
   "execution_count": 9,
   "metadata": {},
   "outputs": [],
   "source": [
    "url = 'http://web.mta.info/developers/turnstile.html'\n",
    "url = 'https://www.google.com'\n",
    "# url = \"https://www.w3schools.com/tags/tryit.asp?filename=tryhtml_iframe\"\n",
    "try :\n",
    "    response = requests.get(url)\n",
    "except : \n",
    "    response = None\n",
    "    "
   ]
  },
  {
   "cell_type": "code",
   "execution_count": 10,
   "metadata": {},
   "outputs": [
    {
     "name": "stdout",
     "output_type": "stream",
     "text": [
      "<Response [200]>\n"
     ]
    }
   ],
   "source": [
    "print(response)"
   ]
  },
  {
   "cell_type": "code",
   "execution_count": 11,
   "metadata": {},
   "outputs": [],
   "source": [
    "soup = BeautifulSoup(response.text, \"html.parser\")"
   ]
  },
  {
   "cell_type": "code",
   "execution_count": 12,
   "metadata": {},
   "outputs": [
    {
     "data": {
      "text/plain": [
       "<a class=\"gb1\" href=\"https://play.google.com/?hl=en&amp;tab=w8\">Play</a>"
      ]
     },
     "execution_count": 12,
     "metadata": {},
     "output_type": "execute_result"
    }
   ],
   "source": [
    "soup.findAll('a')[2]"
   ]
  },
  {
   "cell_type": "code",
   "execution_count": 13,
   "metadata": {
    "scrolled": true
   },
   "outputs": [
    {
     "name": "stdout",
     "output_type": "stream",
     "text": [
      "<!DOCTYPE doctype html>\n",
      "<html itemscope=\"\" itemtype=\"http://schema.org/WebPage\" lang=\"en-IN\">\n",
      " <head>\n",
      "  <meta content=\"text/html; charset=utf-8\" http-equiv=\"Content-Type\"/>\n",
      "  <meta content=\"/images/branding/googleg/1x/googleg_standard_color_128dp.png\" itemprop=\"image\"/>\n",
      "  <title>\n",
      "   Google\n",
      "  </title>\n",
      "  <script nonce=\"hja9egZd4iNpMPRg+XHm9Q==\">\n",
      "   (function(){window.google={kEI:'K7K1XK_JDYXfrQHOmLaAAQ',kEXPI:'0,1353746,58,1958,2422,698,527,730,224,1223,352,1258,1054,840,584,350,447,107,113,8,218,141,86,2333138,329533,1294,12383,4855,32692,15247,867,12163,5281,1100,3335,2,2,4609,2192,363,3320,5505,224,2218,260,5107,575,835,284,2,579,727,2431,59,2,2,2,1297,3692,631,3698,1270,773,2252,975,430,2487,850,1146,5,2,2,1963,2595,3601,669,1050,1808,1397,81,7,3,490,618,29,1395,978,2632,2152,1,1937,1209,1288,2,3106,901,796,101,1119,38,920,270,484,119,1217,1336,28,1611,2736,293,1370,1398,2,215,1,415,2562,2,4,2,572,98,45,3743,560,192,162,124,2368,240,12,620,670,1558,489,13,4,3,147,16,1,321,254,2,433,93,810,389,737,128,386,138,780,151,216,1016,300,82,525,98,758,96,392,29,81,321,374,2,614,456,53,31,567,10,168,8,85,81,130,831,83,152,78,365,367,116,334,174,47,516,404,601,25,10,55,303,216,581,792,490,61,70,138,766,9,25,200,106,194,5,478,581,103,90,66,475,155,144,92,1,231,65,111,17,373,80,222,134,63,142,57,4,62,38,24,162,54,12,69,26,326,1507,79,71,73,153,124,13,39,96,549,194,1323,74,11,114,512,5945035,2554,5997881,32,2799873,4,1572,549,333,444,1,2,80,1,900,577,15,304,1,8,1,2,2132,1,1,1,1,1,414,1,748,141,59,726,3,7,563,1,1712,5,18,1,85,15,32,4,1,6,3338759,18966500',authuser:0,kscs:'c9c918f0_K7K1XK_JDYXfrQHOmLaAAQ',kGL:'IN'};google.sn='webhp';google.kHL='en-IN';})();(function(){google.lc=[];google.li=0;google.getEI=function(a){for(var b;a&&(!a.getAttribute||!(b=a.getAttribute(\"eid\")));)a=a.parentNode;return b||google.kEI};google.getLEI=function(a){for(var b=null;a&&(!a.getAttribute||!(b=a.getAttribute(\"leid\")));)a=a.parentNode;return b};google.https=function(){return\"https:\"==window.location.protocol};google.ml=function(){return null};google.time=function(){return(new Date).getTime()};google.log=function(a,b,e,c,g){if(a=google.logUrl(a,b,e,c,g)){b=new Image;var d=google.lc,f=google.li;d[f]=b;b.onerror=b.onload=b.onabort=function(){delete d[f]};google.vel&&google.vel.lu&&google.vel.lu(a);b.src=a;google.li=f+1}};google.logUrl=function(a,b,e,c,g){var d=\"\",f=google.ls||\"\";e||-1!=b.search(\"&ei=\")||(d=\"&ei=\"+google.getEI(c),-1==b.search(\"&lei=\")&&(c=google.getLEI(c))&&(d+=\"&lei=\"+c));c=\"\";!e&&google.cshid&&-1==b.search(\"&cshid=\")&&\"slh\"!=a&&(c=\"&cshid=\"+google.cshid);a=e||\"/\"+(g||\"gen_204\")+\"?atyp=i&ct=\"+a+\"&cad=\"+b+d+f+\"&zx=\"+google.time()+c;/^http:/i.test(a)&&google.https()&&(google.ml(Error(\"a\"),!1,{src:a,glmm:1}),a=\"\");return a};}).call(this);(function(){google.y={};google.x=function(a,b){if(a)var c=a.id;else{do c=Math.random();while(google.y[c])}google.y[c]=[a,b];return!1};google.lm=[];google.plm=function(a){google.lm.push.apply(google.lm,a)};google.lq=[];google.load=function(a,b,c){google.lq.push([[a],b,c])};google.loadAll=function(a,b){google.lq.push([a,b])};}).call(this);google.f={};var a=window.location,b=a.href.indexOf(\"#\");if(0<=b){var c=a.href.substring(b+1);/(^|&)q=/.test(c)&&-1==c.indexOf(\"#\")&&a.replace(\"/search?\"+c.replace(/(^|&)fp=[^&]*/g,\"\")+\"&cad=h\")};\n",
      "  </script>\n",
      "  <style>\n",
      "   #gbar,#guser{font-size:13px;padding-top:1px !important;}#gbar{height:22px}#guser{padding-bottom:7px !important;text-align:right}.gbh,.gbd{border-top:1px solid #c9d7f1;font-size:1px}.gbh{height:0;position:absolute;top:24px;width:100%}@media all{.gb1{height:22px;margin-right:.5em;vertical-align:top}#gbar{float:left}}a.gb1,a.gb4{text-decoration:underline !important}a.gb1,a.gb4{color:#00c !important}.gbi .gb4{color:#dd8e27 !important}.gbf .gb4{color:#900 !important}\n",
      "  </style>\n",
      "  <style>\n",
      "   body,td,a,p,.h{font-family:arial,sans-serif}body{margin:0;overflow-y:scroll}#gog{padding:3px 8px 0}td{line-height:.8em}.gac_m td{line-height:17px}form{margin-bottom:20px}.h{color:#36c}.q{color:#00c}.ts td{padding:0}.ts{border-collapse:collapse}em{font-weight:bold;font-style:normal}.lst{height:25px;width:496px}.gsfi,.lst{font:18px arial,sans-serif}.gsfs{font:17px arial,sans-serif}.ds{display:inline-box;display:inline-block;margin:3px 0 4px;margin-left:4px}input{font-family:inherit}a.gb1,a.gb2,a.gb3,a.gb4{color:#11c !important}body{background:#fff;color:black}a{color:#11c;text-decoration:none}a:hover,a:active{text-decoration:underline}.fl a{color:#36c}a:visited{color:#551a8b}a.gb1,a.gb4{text-decoration:underline}a.gb3:hover{text-decoration:none}#ghead a.gb2:hover{color:#fff !important}.sblc{padding-top:5px}.sblc a{display:block;margin:2px 0;margin-left:13px;font-size:11px}.lsbb{background:#eee;border:solid 1px;border-color:#ccc #999 #999 #ccc;height:30px}.lsbb{display:block}.ftl,#fll a{display:inline-block;margin:0 12px}.lsb{background:url(/images/nav_logo229.png) 0 -261px repeat-x;border:none;color:#000;cursor:pointer;height:30px;margin:0;outline:0;font:15px arial,sans-serif;vertical-align:top}.lsb:active{background:#ccc}.lst:focus{outline:none}\n",
      "  </style>\n",
      "  <script nonce=\"hja9egZd4iNpMPRg+XHm9Q==\">\n",
      "  </script>\n",
      " </head>\n",
      " <body bgcolor=\"#fff\">\n",
      "  <script nonce=\"hja9egZd4iNpMPRg+XHm9Q==\">\n",
      "   (function(){var src='/images/nav_logo229.png';var iesg=false;document.body.onload = function(){window.n && window.n();if (document.images){new Image().src=src;}\n",
      "if (!iesg){document.f&&document.f.q.focus();document.gbqf&&document.gbqf.q.focus();}\n",
      "}\n",
      "})();\n",
      "  </script>\n",
      "  <div id=\"mngb\">\n",
      "   <div id=\"gbar\">\n",
      "    <nobr>\n",
      "     <b class=\"gb1\">\n",
      "      Search\n",
      "     </b>\n",
      "     <a class=\"gb1\" href=\"https://www.google.co.in/imghp?hl=en&amp;tab=wi\">\n",
      "      Images\n",
      "     </a>\n",
      "     <a class=\"gb1\" href=\"https://maps.google.co.in/maps?hl=en&amp;tab=wl\">\n",
      "      Maps\n",
      "     </a>\n",
      "     <a class=\"gb1\" href=\"https://play.google.com/?hl=en&amp;tab=w8\">\n",
      "      Play\n",
      "     </a>\n",
      "     <a class=\"gb1\" href=\"https://www.youtube.com/?gl=IN&amp;tab=w1\">\n",
      "      YouTube\n",
      "     </a>\n",
      "     <a class=\"gb1\" href=\"https://news.google.co.in/nwshp?hl=en&amp;tab=wn\">\n",
      "      News\n",
      "     </a>\n",
      "     <a class=\"gb1\" href=\"https://mail.google.com/mail/?tab=wm\">\n",
      "      Gmail\n",
      "     </a>\n",
      "     <a class=\"gb1\" href=\"https://drive.google.com/?tab=wo\">\n",
      "      Drive\n",
      "     </a>\n",
      "     <a class=\"gb1\" href=\"https://www.google.co.in/intl/en/about/products?tab=wh\" style=\"text-decoration:none\">\n",
      "      <u>\n",
      "       More\n",
      "      </u>\n",
      "      »\n",
      "     </a>\n",
      "    </nobr>\n",
      "   </div>\n",
      "   <div id=\"guser\" width=\"100%\">\n",
      "    <nobr>\n",
      "     <span class=\"gbi\" id=\"gbn\">\n",
      "     </span>\n",
      "     <span class=\"gbf\" id=\"gbf\">\n",
      "     </span>\n",
      "     <span id=\"gbe\">\n",
      "     </span>\n",
      "     <a class=\"gb4\" href=\"http://www.google.co.in/history/optout?hl=en\">\n",
      "      Web History\n",
      "     </a>\n",
      "     |\n",
      "     <a class=\"gb4\" href=\"/preferences?hl=en\">\n",
      "      Settings\n",
      "     </a>\n",
      "     |\n",
      "     <a class=\"gb4\" href=\"https://accounts.google.com/ServiceLogin?hl=en&amp;passive=true&amp;continue=https://www.google.com/\" id=\"gb_70\" target=\"_top\">\n",
      "      Sign in\n",
      "     </a>\n",
      "    </nobr>\n",
      "   </div>\n",
      "   <div class=\"gbh\" style=\"left:0\">\n",
      "   </div>\n",
      "   <div class=\"gbh\" style=\"right:0\">\n",
      "   </div>\n",
      "  </div>\n",
      "  <center>\n",
      "   <br clear=\"all\" id=\"lgpd\"/>\n",
      "   <div id=\"lga\">\n",
      "    <img alt=\"Google\" height=\"92\" id=\"hplogo\" onload=\"window.lol&amp;&amp;lol()\" src=\"/images/branding/googlelogo/1x/googlelogo_white_background_color_272x92dp.png\" style=\"padding:28px 0 14px\" width=\"272\"/>\n",
      "    <br/>\n",
      "    <br/>\n",
      "   </div>\n",
      "   <form action=\"/search\" name=\"f\">\n",
      "    <table cellpadding=\"0\" cellspacing=\"0\">\n",
      "     <tr valign=\"top\">\n",
      "      <td width=\"25%\">\n",
      "      </td>\n",
      "      <td align=\"center\" nowrap=\"\">\n",
      "       <input name=\"ie\" type=\"hidden\" value=\"ISO-8859-1\"/>\n",
      "       <input name=\"hl\" type=\"hidden\" value=\"en-IN\"/>\n",
      "       <input name=\"source\" type=\"hidden\" value=\"hp\"/>\n",
      "       <input name=\"biw\" type=\"hidden\"/>\n",
      "       <input name=\"bih\" type=\"hidden\"/>\n",
      "       <div class=\"ds\" style=\"height:32px;margin:4px 0\">\n",
      "        <input autocomplete=\"off\" class=\"lst\" maxlength=\"2048\" name=\"q\" size=\"57\" style=\"color:#000;margin:0;padding:5px 8px 0 6px;vertical-align:top\" title=\"Google Search\" value=\"\"/>\n",
      "       </div>\n",
      "       <br style=\"line-height:0\"/>\n",
      "       <span class=\"ds\">\n",
      "        <span class=\"lsbb\">\n",
      "         <input class=\"lsb\" name=\"btnG\" type=\"submit\" value=\"Google Search\"/>\n",
      "        </span>\n",
      "       </span>\n",
      "       <span class=\"ds\">\n",
      "        <span class=\"lsbb\">\n",
      "         <input class=\"lsb\" name=\"btnI\" onclick=\"if(this.form.q.value)this.checked=1; else top.location='/doodles/'\" type=\"submit\" value=\"I'm Feeling Lucky\"/>\n",
      "        </span>\n",
      "       </span>\n",
      "      </td>\n",
      "      <td align=\"left\" class=\"fl sblc\" nowrap=\"\" width=\"25%\">\n",
      "       <a href=\"/advanced_search?hl=en-IN&amp;authuser=0\">\n",
      "        Advanced search\n",
      "       </a>\n",
      "       <a href=\"/language_tools?hl=en-IN&amp;authuser=0\">\n",
      "        Language tools\n",
      "       </a>\n",
      "      </td>\n",
      "     </tr>\n",
      "    </table>\n",
      "    <input id=\"gbv\" name=\"gbv\" type=\"hidden\" value=\"1\"/>\n",
      "    <script nonce=\"hja9egZd4iNpMPRg+XHm9Q==\">\n",
      "     (function(){var a,b=\"1\";if(document&&document.getElementById)if(\"undefined\"!=typeof XMLHttpRequest)b=\"2\";else if(\"undefined\"!=typeof ActiveXObject){var c,d,e=[\"MSXML2.XMLHTTP.6.0\",\"MSXML2.XMLHTTP.3.0\",\"MSXML2.XMLHTTP\",\"Microsoft.XMLHTTP\"];for(c=0;d=e[c++];)try{new ActiveXObject(d),b=\"2\"}catch(h){}}a=b;if(\"2\"==a&&-1==location.search.indexOf(\"&gbv=2\")){var f=google.gbvu,g=document.getElementById(\"gbv\");g&&(g.value=a);f&&window.setTimeout(function(){location.href=f},0)};}).call(this);\n",
      "    </script>\n",
      "   </form>\n",
      "   <div id=\"gac_scont\">\n",
      "   </div>\n",
      "   <div style=\"font-size:83%;min-height:3.5em\">\n",
      "    <br/>\n",
      "    <div id=\"gws-output-pages-elements-homepage_additional_languages__als\">\n",
      "     <style>\n",
      "      #gws-output-pages-elements-homepage_additional_languages__als{font-size:small;margin-bottom:24px}#SIvCob{display:inline-block;line-height:28px;}#SIvCob a{padding:0 3px;}.H6sW5{display:inline-block;margin:0 2px;white-space:nowrap}.z4hgWe{display:inline-block;margin:0 2px}\n",
      "     </style>\n",
      "     <div id=\"SIvCob\">\n",
      "      Google offered in:\n",
      "      <a href=\"https://www.google.com/setprefs?sig=0_X-fh-1St1xQ8VZHFad7HNlfhZUo%3D&amp;hl=hi&amp;source=homepage&amp;sa=X&amp;ved=0ahUKEwjvipCvt9ThAhWFbysKHU6MDRAQ2ZgBCAU\">\n",
      "       हिन्दी\n",
      "      </a>\n",
      "      <a href=\"https://www.google.com/setprefs?sig=0_X-fh-1St1xQ8VZHFad7HNlfhZUo%3D&amp;hl=bn&amp;source=homepage&amp;sa=X&amp;ved=0ahUKEwjvipCvt9ThAhWFbysKHU6MDRAQ2ZgBCAY\">\n",
      "       বাংলা\n",
      "      </a>\n",
      "      <a href=\"https://www.google.com/setprefs?sig=0_X-fh-1St1xQ8VZHFad7HNlfhZUo%3D&amp;hl=te&amp;source=homepage&amp;sa=X&amp;ved=0ahUKEwjvipCvt9ThAhWFbysKHU6MDRAQ2ZgBCAc\">\n",
      "       తెలుగు\n",
      "      </a>\n",
      "      <a href=\"https://www.google.com/setprefs?sig=0_X-fh-1St1xQ8VZHFad7HNlfhZUo%3D&amp;hl=mr&amp;source=homepage&amp;sa=X&amp;ved=0ahUKEwjvipCvt9ThAhWFbysKHU6MDRAQ2ZgBCAg\">\n",
      "       मराठी\n",
      "      </a>\n",
      "      <a href=\"https://www.google.com/setprefs?sig=0_X-fh-1St1xQ8VZHFad7HNlfhZUo%3D&amp;hl=ta&amp;source=homepage&amp;sa=X&amp;ved=0ahUKEwjvipCvt9ThAhWFbysKHU6MDRAQ2ZgBCAk\">\n",
      "       தமிழ்\n",
      "      </a>\n",
      "      <a href=\"https://www.google.com/setprefs?sig=0_X-fh-1St1xQ8VZHFad7HNlfhZUo%3D&amp;hl=gu&amp;source=homepage&amp;sa=X&amp;ved=0ahUKEwjvipCvt9ThAhWFbysKHU6MDRAQ2ZgBCAo\">\n",
      "       ગુજરાતી\n",
      "      </a>\n",
      "      <a href=\"https://www.google.com/setprefs?sig=0_X-fh-1St1xQ8VZHFad7HNlfhZUo%3D&amp;hl=kn&amp;source=homepage&amp;sa=X&amp;ved=0ahUKEwjvipCvt9ThAhWFbysKHU6MDRAQ2ZgBCAs\">\n",
      "       ಕನ್ನಡ\n",
      "      </a>\n",
      "      <a href=\"https://www.google.com/setprefs?sig=0_X-fh-1St1xQ8VZHFad7HNlfhZUo%3D&amp;hl=ml&amp;source=homepage&amp;sa=X&amp;ved=0ahUKEwjvipCvt9ThAhWFbysKHU6MDRAQ2ZgBCAw\">\n",
      "       മലയാളം\n",
      "      </a>\n",
      "      <a href=\"https://www.google.com/setprefs?sig=0_X-fh-1St1xQ8VZHFad7HNlfhZUo%3D&amp;hl=pa&amp;source=homepage&amp;sa=X&amp;ved=0ahUKEwjvipCvt9ThAhWFbysKHU6MDRAQ2ZgBCA0\">\n",
      "       ਪੰਜਾਬੀ\n",
      "      </a>\n",
      "     </div>\n",
      "    </div>\n",
      "   </div>\n",
      "   <span id=\"footer\">\n",
      "    <div style=\"font-size:10pt\">\n",
      "     <div id=\"fll\" style=\"margin:19px auto;text-align:center\">\n",
      "      <a href=\"/intl/en/ads/\">\n",
      "       Advertising Programs\n",
      "      </a>\n",
      "      <a href=\"http://www.google.co.in/services/\">\n",
      "       Business Solutions\n",
      "      </a>\n",
      "      <a href=\"/intl/en/about.html\">\n",
      "       About Google\n",
      "      </a>\n",
      "      <a href=\"https://www.google.com/setprefdomain?prefdom=IN&amp;prev=https://www.google.co.in/&amp;sig=K_W24_avEGbJ_3Jvl_RG2X_rSg7hU%3D\">\n",
      "       Google.co.in\n",
      "      </a>\n",
      "     </div>\n",
      "    </div>\n",
      "    <p style=\"color:#767676;font-size:8pt\">\n",
      "     © 2019 -\n",
      "     <a href=\"/intl/en/policies/privacy/\">\n",
      "      Privacy\n",
      "     </a>\n",
      "     -\n",
      "     <a href=\"/intl/en/policies/terms/\">\n",
      "      Terms\n",
      "     </a>\n",
      "    </p>\n",
      "   </span>\n",
      "  </center>\n",
      "  <script nonce=\"hja9egZd4iNpMPRg+XHm9Q==\">\n",
      "   (function(){window.google.cdo={height:0,width:0};(function(){var a=window.innerWidth,b=window.innerHeight;if(!a||!b){var c=window.document,d=\"CSS1Compat\"==c.compatMode?c.documentElement:c.body;a=d.clientWidth;b=d.clientHeight}a&&b&&(a!=google.cdo.width||b!=google.cdo.height)&&google.log(\"\",\"\",\"/client_204?&atyp=i&biw=\"+a+\"&bih=\"+b+\"&ei=\"+google.kEI);}).call(this);})();(function(){var u='/xjs/_/js/k\\x3dxjs.hp.en.Pjt8u_gnPR4.O/m\\x3dsb_he,d/am\\x3dBIOa/rt\\x3dj/d\\x3d1/rs\\x3dACT90oGKl4e1-p0rcWsvKKwsXk4tOZG0Ew';setTimeout(function(){var a=document.createElement(\"script\");a.src=u;google.timers&&google.timers.load&&google.tick&&google.tick(\"load\",\"xjsls\");document.body.appendChild(a)},0);})();(function(){window.google.xjsu='/xjs/_/js/k\\x3dxjs.hp.en.Pjt8u_gnPR4.O/m\\x3dsb_he,d/am\\x3dBIOa/rt\\x3dj/d\\x3d1/rs\\x3dACT90oGKl4e1-p0rcWsvKKwsXk4tOZG0Ew';})();function _DumpException(e){throw e;}\n",
      "(function(){google.spjs=false;})();(function(){var pmc='{\\x22Qnk92g\\x22:{},\\x22RWGcrA\\x22:{},\\x22U5B21g\\x22:{},\\x22YFCs/g\\x22:{},\\x22ZI/YVQ\\x22:{},\\x22d\\x22:{},\\x22sb_he\\x22:{\\x22agen\\x22:true,\\x22cgen\\x22:true,\\x22client\\x22:\\x22heirloom-hp\\x22,\\x22dh\\x22:true,\\x22dhqt\\x22:true,\\x22ds\\x22:\\x22\\x22,\\x22ffql\\x22:\\x22en\\x22,\\x22fl\\x22:true,\\x22host\\x22:\\x22google.com\\x22,\\x22isbh\\x22:28,\\x22jsonp\\x22:true,\\x22msgs\\x22:{\\x22cibl\\x22:\\x22Clear Search\\x22,\\x22dym\\x22:\\x22Did you mean:\\x22,\\x22lcky\\x22:\\x22I\\\\u0026#39;m Feeling Lucky\\x22,\\x22lml\\x22:\\x22Learn more\\x22,\\x22oskt\\x22:\\x22Input tools\\x22,\\x22psrc\\x22:\\x22This search was removed from your \\\\u003Ca href\\x3d\\\\\\x22/history\\\\\\x22\\\\u003EWeb History\\\\u003C/a\\\\u003E\\x22,\\x22psrl\\x22:\\x22Remove\\x22,\\x22sbit\\x22:\\x22Search by image\\x22,\\x22srch\\x22:\\x22Google Search\\x22},\\x22ovr\\x22:{},\\x22pq\\x22:\\x22\\x22,\\x22refpd\\x22:true,\\x22rfs\\x22:[],\\x22sbpl\\x22:24,\\x22sbpr\\x22:24,\\x22scd\\x22:10,\\x22sce\\x22:5,\\x22stok\\x22:\\x228SZJ-amlxBQYpM5PGW8nN7pOoVY\\x22,\\x22uhde\\x22:false}}';google.pmc=JSON.parse(pmc);})();\n",
      "  </script>\n",
      " </body>\n",
      "</html>\n"
     ]
    }
   ],
   "source": [
    "print(soup.prettify())"
   ]
  },
  {
   "cell_type": "code",
   "execution_count": 16,
   "metadata": {},
   "outputs": [
    {
     "name": "stdout",
     "output_type": "stream",
     "text": [
      "[]\n"
     ]
    }
   ],
   "source": [
    "ifs  = soup.findAll('iframe')\n",
    "for frame in ifs : \n",
    "    print(frame.width)"
   ]
  },
  {
   "cell_type": "markdown",
   "metadata": {},
   "source": [
    "### No of scripts :  "
   ]
  },
  {
   "cell_type": "code",
   "execution_count": null,
   "metadata": {},
   "outputs": [],
   "source": [
    "    "
   ]
  },
  {
   "cell_type": "code",
   "execution_count": 20,
   "metadata": {},
   "outputs": [
    {
     "name": "stdout",
     "output_type": "stream",
     "text": [
      "5\n"
     ]
    }
   ],
   "source": [
    "all_scripts = soup.findAll('script')\n",
    "print(len(all_scripts))\n"
   ]
  },
  {
   "cell_type": "markdown",
   "metadata": {},
   "source": [
    "###  Malicious Javascript\n"
   ]
  },
  {
   "cell_type": "markdown",
   "metadata": {},
   "source": [
    "https://swag.cispa.saarland/papers/fass2018jast.pdf<br>\n",
    "https://github.com/Aurore54F/JaSt"
   ]
  },
  {
   "cell_type": "code",
   "execution_count": null,
   "metadata": {},
   "outputs": [],
   "source": []
  }
 ],
 "metadata": {
  "kernelspec": {
   "display_name": "Python 3",
   "language": "python",
   "name": "python3"
  },
  "language_info": {
   "codemirror_mode": {
    "name": "ipython",
    "version": 3
   },
   "file_extension": ".py",
   "mimetype": "text/x-python",
   "name": "python",
   "nbconvert_exporter": "python",
   "pygments_lexer": "ipython3",
   "version": "3.6.5"
  }
 },
 "nbformat": 4,
 "nbformat_minor": 2
}
