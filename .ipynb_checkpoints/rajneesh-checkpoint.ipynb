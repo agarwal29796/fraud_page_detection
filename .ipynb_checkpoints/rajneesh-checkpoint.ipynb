{
 "cells": [
  {
   "cell_type": "code",
   "execution_count": 2,
   "metadata": {},
   "outputs": [
    {
     "data": {
      "text/plain": [
       "(420464, 2)"
      ]
     },
     "execution_count": 2,
     "metadata": {},
     "output_type": "execute_result"
    }
   ],
   "source": [
    "import pandas as pd\n",
    "import numpy as np\n",
    "data = pd.read_csv('data.csv')\n",
    "data.keys()\n",
    "data.shape"
   ]
  },
  {
   "cell_type": "code",
   "execution_count": 3,
   "metadata": {},
   "outputs": [
    {
     "data": {
      "text/plain": [
       "good    344821\n",
       "bad      75643\n",
       "Name: label, dtype: int64"
      ]
     },
     "execution_count": 3,
     "metadata": {},
     "output_type": "execute_result"
    }
   ],
   "source": [
    "data[\"label\"].value_counts()"
   ]
  },
  {
   "cell_type": "code",
   "execution_count": 4,
   "metadata": {},
   "outputs": [
    {
     "data": {
      "text/plain": [
       "good    1730\n",
       "bad      372\n",
       "Name: label, dtype: int64"
      ]
     },
     "execution_count": 4,
     "metadata": {},
     "output_type": "execute_result"
    }
   ],
   "source": [
    "data = data.sample(frac=0.005, random_state=1)\n",
    "data[\"label\"].value_counts()"
   ]
  },
  {
   "cell_type": "code",
   "execution_count": 5,
   "metadata": {},
   "outputs": [],
   "source": [
    "#finding length of url\n",
    "data['LEN'] = data['url'].apply(lambda x: len(x))"
   ]
  },
  {
   "cell_type": "code",
   "execution_count": 6,
   "metadata": {},
   "outputs": [],
   "source": [
    "#finding count of special characters\n",
    "import re\n",
    "# x = \"asdfklsdf#$&^#@!\"\n",
    "lst = []\n",
    "\n",
    "for i in range(len(data)):\n",
    "    new = re.sub('[\\w]+' ,'', data.iloc[i]['url'])\n",
    "    lst.append(len(new))\n",
    "#     print(i)\n",
    "data['SPECIAL_CHARACTER_COUNT'] = lst"
   ]
  },
  {
   "cell_type": "code",
   "execution_count": 7,
   "metadata": {},
   "outputs": [],
   "source": [
    "def having_ip_address(url):\n",
    "    match = re.search(\n",
    "        '(([01]?\\\\d\\\\d?|2[0-4]\\\\d|25[0-5])\\\\.([01]?\\\\d\\\\d?|2[0-4]\\\\d|25[0-5])\\\\.([01]?\\\\d\\\\d?|2[0-4]\\\\d|25[0-5])\\\\.'\n",
    "        '([01]?\\\\d\\\\d?|2[0-4]\\\\d|25[0-5])\\\\/)|'  # IPv4\n",
    "        '((0x[0-9a-fA-F]{1,2})\\\\.(0x[0-9a-fA-F]{1,2})\\\\.(0x[0-9a-fA-F]{1,2})\\\\.(0x[0-9a-fA-F]{1,2})\\\\/)'  # IPv4 in hexadecimal\n",
    "        '(?:[a-fA-F0-9]{1,4}:){7}[a-fA-F0-9]{1,4}', url)  # Ipv6\n",
    "    if match:\n",
    "        # print match.group()\n",
    "        return 1\n",
    "    else:\n",
    "        # print 'No matching pattern found'\n",
    "        return 0\n",
    "\n",
    "lst = []\n",
    "for i in range(len(data)):\n",
    "#     new = re.sub('[\\w]+' ,'', data.iloc[i]['url'])\n",
    "    lst.append(having_ip_address(data.iloc[i][\"url\"]))\n",
    "#     print(i)\n",
    "data['HAVING_IP_ADDR'] = lst"
   ]
  },
  {
   "cell_type": "code",
   "execution_count": 9,
   "metadata": {},
   "outputs": [],
   "source": [
    "from bs4 import BeautifulSoup\n",
    "import urllib\n",
    "import bs4\n",
    "import socket, whois"
   ]
  },
  {
   "cell_type": "code",
   "execution_count": 10,
   "metadata": {},
   "outputs": [],
   "source": [
    "# checking for @ symbol\n",
    "lst = []\n",
    "for i in range(len(data)):\n",
    "    if re.search('@', data.iloc[i]['url']):\n",
    "        lst.append(1)\n",
    "    else:\n",
    "        lst.append(0)\n",
    "        \n",
    "data['HAS_AT'] = lst"
   ]
  },
  {
   "cell_type": "code",
   "execution_count": 11,
   "metadata": {
    "scrolled": true
   },
   "outputs": [
    {
     "data": {
      "text/plain": [
       "(array([0, 1]), array([1959,  143]))"
      ]
     },
     "execution_count": 11,
     "metadata": {},
     "output_type": "execute_result"
    }
   ],
   "source": [
    "# If shortening service been used\n",
    "def shortening_service(url):\n",
    "    match = re.search('bit\\.ly|goo\\.gl|shorte\\.st|go2l\\.ink|x\\.co|ow\\.ly|t\\.co|tinyurl|tr\\.im|is\\.gd|cli\\.gs|'\n",
    "                      'yfrog\\.com|migre\\.me|ff\\.im|tiny\\.cc|url4\\.eu|twit\\.ac|su\\.pr|twurl\\.nl|snipurl\\.com|'\n",
    "                      'short\\.to|BudURL\\.com|ping\\.fm|post\\.ly|Just\\.as|bkite\\.com|snipr\\.com|fic\\.kr|loopt\\.us|'\n",
    "                      'doiop\\.com|short\\.ie|kl\\.am|wp\\.me|rubyurl\\.com|om\\.ly|to\\.ly|bit\\.do|t\\.co|lnkd\\.in|'\n",
    "                      'db\\.tt|qr\\.ae|adf\\.ly|goo\\.gl|bitly\\.com|cur\\.lv|tinyurl\\.com|ow\\.ly|bit\\.ly|ity\\.im|'\n",
    "                      'q\\.gs|is\\.gd|po\\.st|bc\\.vc|twitthis\\.com|u\\.to|j\\.mp|buzurl\\.com|cutt\\.us|u\\.bb|yourls\\.org|'\n",
    "                      'x\\.co|prettylinkpro\\.com|scrnch\\.me|filoops\\.info|vzturl\\.com|qr\\.net|1url\\.com|tweez\\.me|v\\.gd|'\n",
    "                      'tr\\.im|link\\.zip\\.net',\n",
    "                      url)\n",
    "    if match:\n",
    "        return 1\n",
    "    else:\n",
    "        return 0\n",
    "lst = []\n",
    "for i in range(len(data)):\n",
    "#     print(i)\n",
    "    lst.append(shortening_service(str(data.iloc[i]['url'])))\n",
    "data['SHORTENING_USED'] = lst\n",
    "np.unique(data['SHORTENING_USED'],return_counts=True)"
   ]
  },
  {
   "cell_type": "code",
   "execution_count": 12,
   "metadata": {},
   "outputs": [],
   "source": [
    "#CONTAINS HTTPS TOCKEN\n",
    "def https_token(url):\n",
    "    match = re.search('https://|http://', url)\n",
    "    if match==None:\n",
    "        return 0\n",
    "    if match.start(0) == 0:\n",
    "        url = url[match.end(0):]\n",
    "    match = re.search('http|https', url)\n",
    "    if match:\n",
    "        return 0\n",
    "    else:\n",
    "        return 1\n",
    "\n",
    "lst = []\n",
    "\n",
    "for i in range(len(data)):\n",
    "    lst.append(https_token(str(data.iloc[i]['url'])))\n",
    "\n",
    "data['HTTPS_TOKEN'] = lst"
   ]
  },
  {
   "cell_type": "code",
   "execution_count": 13,
   "metadata": {},
   "outputs": [],
   "source": [
    "data.to_csv('url_features1.csv', index=False)"
   ]
  },
  {
   "cell_type": "code",
   "execution_count": 14,
   "metadata": {},
   "outputs": [
    {
     "data": {
      "text/plain": [
       "(2102, 8)"
      ]
     },
     "execution_count": 14,
     "metadata": {},
     "output_type": "execute_result"
    }
   ],
   "source": [
    "reduced_data = pd.read_csv(\"url_features1.csv\")\n",
    "reduced_data.shape"
   ]
  },
  {
   "cell_type": "code",
   "execution_count": 15,
   "metadata": {},
   "outputs": [],
   "source": [
    "#page rank\n",
    "import sys, bs4\n",
    "import urllib.request as urllib2\n",
    "import ssl\n",
    "\n",
    "gcontext = ssl._create_unverified_context()\n",
    "def page_rank(url):\n",
    "    temp=url\n",
    "    rank =bs4.BeautifulSoup(urllib2.urlopen(\"http://data.alexa.com/data?cli=10&dat=s&url=\"+ \\\n",
    "    temp, context=gcontext).read(), \"xml\").find(\"REACH\")['RANK']\n",
    "    return rank"
   ]
  },
  {
   "cell_type": "code",
   "execution_count": 145,
   "metadata": {},
   "outputs": [],
   "source": [
    "# Calculate DNS response time\n",
    "import socket\n",
    "import requests as req\n",
    "import re\n",
    "import time\n",
    "\n",
    "def DNS_RESPONSE(url):\n",
    "    try :\n",
    "        url = url.split(\"/\")\n",
    "        hostname = url[0]\n",
    "    except : \n",
    "        print(\" issue in finding host name from url : \" + url)\n",
    "        return -2\n",
    "    \n",
    "    try :\n",
    "        startTime = time.time()\n",
    "        ip = socket.gethostbyname(hostname)\n",
    "        endTime = time.time()\n",
    "        diff = (endTime - startTime)* 1000\n",
    "        return diff\n",
    "    except :\n",
    "        return -1"
   ]
  },
  {
   "cell_type": "code",
   "execution_count": 146,
   "metadata": {},
   "outputs": [
    {
     "data": {
      "text/plain": [
       "-1"
      ]
     },
     "execution_count": 146,
     "metadata": {},
     "output_type": "execute_result"
    }
   ],
   "source": [
    "DNS_RESPONSE(\"dhrsjdyym.com/\")"
   ]
  },
  {
   "cell_type": "code",
   "execution_count": 147,
   "metadata": {},
   "outputs": [
    {
     "data": {
      "text/plain": [
       "0.5104541778564453"
      ]
     },
     "execution_count": 147,
     "metadata": {},
     "output_type": "execute_result"
    }
   ],
   "source": [
    "DNS_RESPONSE(\"en.wikipedia.org/wiki/Jean-Claude_Turcotte\")"
   ]
  },
  {
   "cell_type": "code",
   "execution_count": 148,
   "metadata": {},
   "outputs": [
    {
     "data": {
      "text/plain": [
       "0.6761550903320312"
      ]
     },
     "execution_count": 148,
     "metadata": {},
     "output_type": "execute_result"
    }
   ],
   "source": [
    "DNS_RESPONSE(\"wn.com/San_Diego_State_Aztecs\")"
   ]
  },
  {
   "cell_type": "code",
   "execution_count": 149,
   "metadata": {},
   "outputs": [
    {
     "data": {
      "text/plain": [
       "316.99252128601074"
      ]
     },
     "execution_count": 149,
     "metadata": {},
     "output_type": "execute_result"
    }
   ],
   "source": [
    "DNS_RESPONSE(\"pcbc.org.nz/active/libraries/joomla/cache/storage/appcloudshrdocs/Gdoc/\")"
   ]
  },
  {
   "cell_type": "code",
   "execution_count": 150,
   "metadata": {},
   "outputs": [
    {
     "data": {
      "text/plain": [
       "1.8956661224365234"
      ]
     },
     "execution_count": 150,
     "metadata": {},
     "output_type": "execute_result"
    }
   ],
   "source": [
    "DNS_RESPONSE(\"facebook.com/pages/Nichols-Supermarket-Discount-Liquors/100655924025?v=wall\")"
   ]
  },
  {
   "cell_type": "code",
   "execution_count": 151,
   "metadata": {},
   "outputs": [
    {
     "data": {
      "text/plain": [
       "0.041484832763671875"
      ]
     },
     "execution_count": 151,
     "metadata": {},
     "output_type": "execute_result"
    }
   ],
   "source": [
    "DNS_RESPONSE(\"188.127.249.203/data/info.php\")"
   ]
  },
  {
   "cell_type": "code",
   "execution_count": 152,
   "metadata": {},
   "outputs": [
    {
     "data": {
      "text/plain": [
       "258.9740753173828"
      ]
     },
     "execution_count": 152,
     "metadata": {},
     "output_type": "execute_result"
    }
   ],
   "source": [
    "DNS_RESPONSE(\"bjcurio.com/js/index.htm\")"
   ]
  },
  {
   "cell_type": "code",
   "execution_count": 5,
   "metadata": {
    "scrolled": true
   },
   "outputs": [
    {
     "name": "stdout",
     "output_type": "stream",
     "text": [
      "0\n",
      "50\n",
      "100\n",
      "150\n",
      "200\n",
      "250\n",
      "300\n",
      "350\n",
      "400\n",
      "450\n",
      "500\n",
      "550\n",
      "600\n",
      "650\n",
      "700\n",
      "750\n",
      "800\n",
      "850\n",
      "900\n",
      "950\n",
      "1000\n",
      "1050\n",
      "1100\n",
      "1150\n",
      "1200\n",
      "1250\n",
      "1300\n",
      "1350\n",
      "1400\n",
      "1450\n",
      "1500\n",
      "1550\n",
      "1600\n",
      "1650\n",
      "1700\n",
      "1750\n",
      "1800\n",
      "1850\n",
      "1900\n",
      "1950\n",
      "2000\n",
      "2050\n",
      "2100\n"
     ]
    }
   ],
   "source": [
    "lst = []\n",
    "\n",
    "for i in range(len(reduced_data)):\n",
    "    try:\n",
    "        lst.append(DNS_RESPONSE(str(reduced_data.iloc[i]['url'])))\n",
    "    except:\n",
    "#         print(reduced_data.iloc[i]['url'],reduced_data.iloc[i]['label'] )\n",
    "        lst.append(\"nan\")\n",
    "    if (i%50==0):\n",
    "        print(i)\n",
    "reduced_data['DNS_RESPONSE'] = lst"
   ]
  },
  {
   "cell_type": "code",
   "execution_count": 11,
   "metadata": {
    "scrolled": true
   },
   "outputs": [],
   "source": [
    "reduced_data = reduced_data[reduced_data[\"DNS_RESPONSE\"] != \"nan\"]"
   ]
  },
  {
   "cell_type": "code",
   "execution_count": 12,
   "metadata": {},
   "outputs": [],
   "source": [
    "reduced_data.to_csv('url_features1.csv', index=False)"
   ]
  },
  {
   "cell_type": "code",
   "execution_count": 8,
   "metadata": {},
   "outputs": [
    {
     "data": {
      "text/plain": [
       "(1819, 9)"
      ]
     },
     "execution_count": 8,
     "metadata": {},
     "output_type": "execute_result"
    }
   ],
   "source": [
    "reduced_data.shape"
   ]
  },
  {
   "cell_type": "code",
   "execution_count": 86,
   "metadata": {},
   "outputs": [],
   "source": [
    "from urllib.parse import urlparse\n",
    "import time\n",
    "import ssl\n",
    "import urllib.request  as urllib2\n",
    "import urllib\n",
    "\n",
    "def networks(link):\n",
    "    if not urlparse(link).scheme:\n",
    "        url = \"http://\" + link\n",
    "    gcontext = ssl._create_unverified_context()\n",
    "    handshake_start = time.time()\n",
    "    http_status_code = 400\n",
    "\n",
    "    try : \n",
    "        stream = urllib2.urlopen(url,context=gcontext)\n",
    "        http_status_code = stream.getcode()\n",
    "\n",
    "    except urllib.error.HTTPError  as e :\n",
    "            http_status_code = e.code\n",
    "    \n",
    "    \n",
    "    if http_status_code >= 400 :\n",
    "        return 0 , 0 , 0 , False , 'http' , http_status_code        \n",
    "            \n",
    "        \n",
    "        \n",
    "    new_url = stream.geturl()\n",
    "    \n",
    "    redirect = False\n",
    "    protocol =  \"http\"\n",
    "    \n",
    "    if new_url :\n",
    "        new_url = new_url.split(\"://\")\n",
    "        protocol =  new_url[0]\n",
    "        del new_url[0]\n",
    "        new_url = \"://\".join(new_url)\n",
    "        \n",
    "        if new_url != link:\n",
    "            redirect = True\n",
    "\n",
    "            \n",
    "        \n",
    "#     print(stream.info())\n",
    "    handshake_end = time.time()\n",
    "    handshake_time = (handshake_end - handshake_start) * 1000\n",
    "#     print ('HTTP handshake time = %.5f ms' %handshake_time)\n",
    "    data_start = time.time()\n",
    "    data_length = len(stream.read())\n",
    "    data_end = time.time()\n",
    "    data_time = (data_end - data_start)*1000\n",
    "#     print(\"data time = %.5f ms\" %data_time)\n",
    "#     print(data_length)\n",
    "    return handshake_time, data_time, data_length , redirect , protocol , http_status_code\n",
    "# networks(\"twitter.com/aQuariusrecOrds\")"
   ]
  },
  {
   "cell_type": "code",
   "execution_count": 87,
   "metadata": {},
   "outputs": [
    {
     "name": "stdout",
     "output_type": "stream",
     "text": [
      "(2309.3605041503906, 279.5758247375488, 129049, False, 'https', 200)\n"
     ]
    }
   ],
   "source": [
    "print(networks(\"www.legacy.com/obituaries/orlandosentinel/obituary.aspx?n=william-c-underwood-bill&pid=147765497\"))"
   ]
  },
  {
   "cell_type": "code",
   "execution_count": 88,
   "metadata": {},
   "outputs": [
    {
     "name": "stdout",
     "output_type": "stream",
     "text": [
      "(508.8222026824951, 8.513689041137695, 5937, True, 'http', 200)\n"
     ]
    }
   ],
   "source": [
    "print(networks(\"ant.co.id/.https/www/outlook.office365.com/MBI_SSL/w-signin/owa/auth/logon.aspx_url_replace-Current_owa/index.php?umail=YWNjb3VudGluZ0BiZXN0LWNoZW0uY28udWsN\"))"
   ]
  },
  {
   "cell_type": "code",
   "execution_count": 89,
   "metadata": {},
   "outputs": [
    {
     "name": "stdout",
     "output_type": "stream",
     "text": [
      "(697.4468231201172, 1.6281604766845703, 13707, False, 'http', 200)\n"
     ]
    }
   ],
   "source": [
    "print(networks(\"snip.ly/kv4hc\"))"
   ]
  },
  {
   "cell_type": "code",
   "execution_count": 90,
   "metadata": {},
   "outputs": [
    {
     "name": "stdout",
     "output_type": "stream",
     "text": [
      "(0, 0, 0, False, 'http', 404)\n"
     ]
    }
   ],
   "source": [
    "print(networks(\"econopaginas.com/nyx37ec?eujhnelmax=fivpyok\"))"
   ]
  },
  {
   "cell_type": "code",
   "execution_count": 91,
   "metadata": {},
   "outputs": [
    {
     "name": "stdout",
     "output_type": "stream",
     "text": [
      "(0, 0, 0, False, 'http', 404)\n"
     ]
    }
   ],
   "source": [
    "print(networks(\"eclecticvideo.com/cc/GD\"))"
   ]
  },
  {
   "cell_type": "code",
   "execution_count": 92,
   "metadata": {},
   "outputs": [
    {
     "name": "stdout",
     "output_type": "stream",
     "text": [
      "(793.5218811035156, 0.14591217041015625, 577, False, 'http', 200)\n"
     ]
    }
   ],
   "source": [
    "print(networks(\"brothermalw.ws/0b24a\"))"
   ]
  },
  {
   "cell_type": "code",
   "execution_count": 93,
   "metadata": {},
   "outputs": [
    {
     "name": "stdout",
     "output_type": "stream",
     "text": [
      "(619.7001934051514, 0.09512901306152344, 0, False, 'http', 200)\n"
     ]
    }
   ],
   "source": [
    "print(networks(\"highschoolhomepages.student.com/index.php?c=37&s=59\"))"
   ]
  },
  {
   "cell_type": "code",
   "execution_count": 94,
   "metadata": {},
   "outputs": [
    {
     "name": "stdout",
     "output_type": "stream",
     "text": [
      "(0, 0, 0, False, 'http', 404)\n"
     ]
    }
   ],
   "source": [
    "print(networks(\"wikinfo.org/index.php/Texas\"))"
   ]
  },
  {
   "cell_type": "code",
   "execution_count": 10,
   "metadata": {},
   "outputs": [
    {
     "name": "stdout",
     "output_type": "stream",
     "text": [
      "0\n",
      "50\n",
      "100\n",
      "150\n",
      "200\n",
      "250\n",
      "300\n",
      "350\n",
      "400\n",
      "450\n",
      "500\n",
      "550\n",
      "600\n",
      "650\n",
      "700\n",
      "750\n",
      "800\n",
      "850\n",
      "900\n",
      "950\n",
      "1000\n",
      "1050\n",
      "1100\n",
      "1150\n",
      "1200\n",
      "1250\n",
      "1300\n",
      "1350\n",
      "1400\n",
      "1450\n",
      "1500\n",
      "1550\n",
      "1600\n",
      "1650\n",
      "1700\n",
      "1750\n",
      "1800\n"
     ]
    }
   ],
   "source": [
    "lst_hand = []\n",
    "lst_data_time=[]\n",
    "lst_data_length = []\n",
    "\n",
    "for i in range(len(reduced_data)):\n",
    "    try:\n",
    "        hand, data_time,data_length =  networks(str(reduced_data.iloc[i]['url']))\n",
    "        lst_hand.append(hand)\n",
    "        lst_data_time.append(data_time)\n",
    "        lst_data_length.append(data_length)\n",
    "    except:\n",
    "        lst_hand.append(\"nan\")\n",
    "        lst_data_time.append(\"nan\")\n",
    "        lst_data_length.append(\"nan\")\n",
    "    if (i%50==0):\n",
    "        print(i)\n",
    "reduced_data[\"HTTP_HANDSHAKE\"] = lst_hand\n",
    "reduced_data[\"DATA_TIME\"] = lst_data_time\n",
    "reduced_data[\"DATA_LENGTH\"] = lst_data_length"
   ]
  },
  {
   "cell_type": "code",
   "execution_count": null,
   "metadata": {},
   "outputs": [],
   "source": []
  }
 ],
 "metadata": {
  "kernelspec": {
   "display_name": "Python 3",
   "language": "python",
   "name": "python3"
  },
  "language_info": {
   "codemirror_mode": {
    "name": "ipython",
    "version": 3
   },
   "file_extension": ".py",
   "mimetype": "text/x-python",
   "name": "python",
   "nbconvert_exporter": "python",
   "pygments_lexer": "ipython3",
   "version": "3.6.5"
  }
 },
 "nbformat": 4,
 "nbformat_minor": 2
}
